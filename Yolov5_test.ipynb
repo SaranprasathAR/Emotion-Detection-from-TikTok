{
  "cells": [
    {
      "cell_type": "code",
      "execution_count": null,
      "metadata": {
        "colab": {
          "base_uri": "https://localhost:8080/"
        },
        "id": "ObNO4n-k7_kr",
        "outputId": "dbf06356-10c6-40ea-e026-83d727a3a89a"
      },
      "outputs": [
        {
          "name": "stderr",
          "output_type": "stream",
          "text": [
            "YOLOv5 🚀 v6.2-47-geab35f6 Python-3.7.13 torch-1.12.1+cu113 CPU\n"
          ]
        },
        {
          "name": "stdout",
          "output_type": "stream",
          "text": [
            "Setup complete ✅ (2 CPUs, 12.7 GB RAM, 37.1/107.7 GB disk)\n"
          ]
        }
      ],
      "source": [
        "!git clone https://github.com/ultralytics/yolov5  # clone\n",
        "%cd yolov5\n",
        "%pip install -qr requirements.txt  # install\n",
        "\n",
        "import torch\n",
        "import utils\n",
        "display = utils.notebook_init()"
      ]
    },
    {
      "cell_type": "code",
      "execution_count": null,
      "metadata": {
        "id": "IUMGJbt67xEQ"
      },
      "outputs": [],
      "source": [
        "pwd"
      ]
    },
    {
      "cell_type": "code",
      "execution_count": null,
      "metadata": {
        "id": "FLukMTSNvMwm"
      },
      "outputs": [],
      "source": [
        "!mkdir videos"
      ]
    },
    {
      "cell_type": "code",
      "execution_count": null,
      "metadata": {
        "id": "mxVM5r_1CGL1"
      },
      "outputs": [],
      "source": [
        "pwd"
      ]
    },
    {
      "cell_type": "code",
      "execution_count": null,
      "metadata": {
        "id": "kjHe5sdt5qJ5"
      },
      "outputs": [],
      "source": [
        "!unzip \"(location of videos directory source to unzip)\" -d \"(location of destination to unzip the videos)\""
      ]
    },
    {
      "cell_type": "code",
      "execution_count": null,
      "metadata": {
        "id": "hhVM1lPn61Sn"
      },
      "outputs": [],
      "source": [
        "pwd"
      ]
    },
    {
      "cell_type": "code",
      "execution_count": null,
      "metadata": {
        "id": "3ScjSnSUqP75"
      },
      "outputs": [],
      "source": [
        "%%capture cap  \n",
        "# capture command is use to capture the output of a cell in jupyter notebook/colab \n",
        "%%time\n",
        "# the above code \"%%time\" is used to capture the execution time of the  current cell"
      ]
    },
    {
      "cell_type": "code",
      "execution_count": null,
      "metadata": {
        "id": "NMDxcForvFGl"
      },
      "outputs": [],
      "source": [
        "!python detect.py --weights \"best.pt\" --img 640 --conf 0.50 --source videos/Siya"
      ]
    },
    {
      "cell_type": "code",
      "execution_count": null,
      "metadata": {
        "id": "FzyaDzLCj0aZ"
      },
      "outputs": [],
      "source": [
        "#To create a text file to save the captured output \n",
        "f = open(\"output1.txt\", \"w\") \n",
        "print(cap, file=f)\n",
        "f.close()\n"
      ]
    }
  ],
  "metadata": {
    "colab": {
      "collapsed_sections": [],
      "provenance": []
    },
    "gpuClass": "standard",
    "kernelspec": {
      "display_name": "Python 3.9.1 ('python_env')",
      "language": "python",
      "name": "python3"
    },
    "language_info": {
      "name": "python",
      "version": "3.9.1"
    },
    "vscode": {
      "interpreter": {
        "hash": "17c0d5bcc2f8ab98e565fba5e6d518a0189d41ee612b8a497826d9bfae697105"
      }
    }
  },
  "nbformat": 4,
  "nbformat_minor": 0
}
