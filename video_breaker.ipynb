{
 "cells": [
  {
   "cell_type": "code",
   "execution_count": null,
   "metadata": {},
   "outputs": [],
   "source": [
    "import cv2\n",
    " \n",
    "capture = cv2.VideoCapture('video_file_path') #change video_file_path\n",
    " \n",
    "frameNr = 0\n",
    " \n",
    "while (True):\n",
    " \n",
    "    success, frame = capture.read()\n",
    " \n",
    "    if success:\n",
    "        cv2.imwrite(f'/frame_{frameNr}.jpg', frame) #change destination\n",
    " \n",
    "    else:\n",
    "        break\n",
    " \n",
    "    frameNr = frameNr+1\n",
    " \n",
    "capture.release()"
   ]
  },
  {
   "cell_type": "code",
   "execution_count": null,
   "metadata": {},
   "outputs": [],
   "source": []
  }
 ],
 "metadata": {
  "kernelspec": {
   "display_name": "Python 3.9.1 ('python_env')",
   "language": "python",
   "name": "python3"
  },
  "language_info": {
   "codemirror_mode": {
    "name": "ipython",
    "version": 3
   },
   "file_extension": ".py",
   "mimetype": "text/x-python",
   "name": "python",
   "nbconvert_exporter": "python",
   "pygments_lexer": "ipython3",
   "version": "3.9.1"
  },
  "orig_nbformat": 4,
  "vscode": {
   "interpreter": {
    "hash": "17c0d5bcc2f8ab98e565fba5e6d518a0189d41ee612b8a497826d9bfae697105"
   }
  }
 },
 "nbformat": 4,
 "nbformat_minor": 2
}
